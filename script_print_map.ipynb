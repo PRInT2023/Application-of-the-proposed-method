{
 "cells": [
  {
   "cell_type": "code",
   "execution_count": null,
   "metadata": {},
   "outputs": [],
   "source": [
    "'''\n",
    "This script prints the Figure 2 in Section IV of \"Evaluation metrics and method for planned regulatory inspection targeting\".\n",
    "'''\n",
    "__author__ = 'Celso Ribas'\n",
    "__credits__ = ['Celso Ribas', 'José Bermudez']\n",
    "__version__ = '0.2'\n",
    "__maintainer__ = 'Celso Ribas'\n",
    "__contact__ = 'celsoribas@gmail.com'\n",
    "__status__ = 'dev'\n",
    "__date__ = 'October 31, 2022'"
   ]
  },
  {
   "cell_type": "code",
   "execution_count": null,
   "metadata": {},
   "outputs": [],
   "source": [
    "# loading libraries\n",
    "import matplotlib.pyplot as plt\n",
    "import networkx as nx\n",
    "import geopandas as gpd\n",
    "import numpy as np\n",
    "import matplotlib.colors as colors\n",
    "import matplotlib.cm as cmx\n",
    "%matplotlib inline"
   ]
  },
  {
   "cell_type": "code",
   "execution_count": null,
   "metadata": {},
   "outputs": [],
   "source": [
    "# loading data\n",
    "data = np.load('data_for_print_simulations.npz')\n",
    "W = data['W']  # influences between municipalities\n",
    "vertices = data['vertices']  # IBGE codes of municipalities\n",
    "gdf = gpd.read_file(\"shapefile.shp\")  # IBGE shapefile for municipalities in Figure 1."
   ]
  },
  {
   "cell_type": "code",
   "execution_count": null,
   "metadata": {},
   "outputs": [],
   "source": [
    "# INSERT THE CODE OF THE MUNICIPALITY OF INTEREST (from here onward, in comments, just vi)\n",
    "code_mun = 3132404"
   ]
  },
  {
   "cell_type": "code",
   "execution_count": null,
   "metadata": {},
   "outputs": [],
   "source": [
    "i = np.argwhere(vertices==code_mun)[0][0]  # index in W of vi"
   ]
  },
  {
   "cell_type": "code",
   "execution_count": null,
   "metadata": {},
   "outputs": [],
   "source": [
    "def influences(i, direction):\n",
    "    global W, vertices, gdf\n",
    "    # setting variables\n",
    "    if direction == 'in':\n",
    "        wij = np.sort(W[i,:])[::-1]  # sorted influences from all municipalities on vi\n",
    "        idx = np.argsort(W[i,:])[::-1]  # index of sorted influences\n",
    "    elif direction == 'out':\n",
    "        wij = np.sort(W[:,i])[::-1]  # sorted influences from all municipalities on vi\n",
    "        idx = np.argsort(W[:,i])[::-1]  # index of sorted influences\n",
    "    else:\n",
    "        print('Direction must be \"in\" or \"out\"!')\n",
    "    mask_wij = wij>0  # mask to influencing municipalities\n",
    "    wij = wij[mask_wij]  # sorted influences just from influencing municipalities\n",
    "    idx = idx[mask_wij]  # index of sorted influences just from influencing municipalities\n",
    "    Wij = np.zeros([wij.size+1, wij.size+1])  # tensor for reduced adjacency matrix\n",
    "    if direction == 'in':\n",
    "        Wij[-1,:-1] = wij  # setting influences\n",
    "    else:\n",
    "        Wij[:-1,-1] = wij\n",
    "    idx_Wij = np.append(idx,i)  # append the index of vi\n",
    "    graph_Wij = nx.DiGraph(Wij.T)  # the adjacency matrix for NetworkX lib is transposed\n",
    "    gdf_Wij = gpd.GeoDataFrame().reindex_like(gdf.loc[0:idx.size,:]) # GeoDataFrame\n",
    "    # values of influencing and influenced municipalities\n",
    "    for j in gdf_Wij.index:\n",
    "        gdf_Wij.loc[j,:] = gdf.loc[gdf[gdf.CD_MUN == str(vertices[idx_Wij[j]])].index[0],:]\n",
    "    # locations\n",
    "    centroids_Wij = np.column_stack((gdf_Wij.centroid.x, gdf_Wij.centroid.y))  # centroids of municipalities\n",
    "    positions_Wij = dict(zip(graph_Wij.nodes, centroids_Wij))  # positions of municipalities\n",
    "    # Colors for edges\n",
    "    map_edge = plt.get_cmap('cool')\n",
    "    cNorm_Wij  = colors.Normalize(vmin=0, vmax=wij.max())\n",
    "    scalarMap_Wij = cmx.ScalarMappable(norm=cNorm_Wij, cmap=map_edge)\n",
    "    colorList_Wij = []\n",
    "    for i in range(graph_Wij.number_of_edges()):\n",
    "      colorVal_Wij = scalarMap_Wij.to_rgba(wij[i])\n",
    "      colorList_Wij.append(colorVal_Wij)\n",
    "    # Colors for municipalities\n",
    "    map_mun = plt.get_cmap('binary')\n",
    "    faceColorList = np.full((gdf_Wij.index.size,), 0.4)\n",
    "    faceColorList[-1] = 1\n",
    "    faceColorList = map_mun(faceColorList)\n",
    "    \n",
    "    return gdf_Wij, graph_Wij, positions_Wij, faceColorList, colorList_Wij, scalarMap_Wij"
   ]
  },
  {
   "cell_type": "code",
   "execution_count": null,
   "metadata": {},
   "outputs": [],
   "source": [
    "# calcating necessary data for Figure\n",
    "gdf_Wij, graph_Wij, positions_Wij, colorList_Vij, colorList_Wij, scalarMap_Wij = influences(i, 'in')\n",
    "gdf_Wji, graph_Wji, positions_Wji, colorList_Vji, colorList_Wji, scalarMap_Wji = influences(i, 'out')"
   ]
  },
  {
   "cell_type": "code",
   "execution_count": null,
   "metadata": {},
   "outputs": [],
   "source": [
    "ax_1 = gdf_Wij.plot(linewidth=.3, edgecolor=\"black\", facecolor=colorList_Vij) # just to get axis"
   ]
  },
  {
   "cell_type": "code",
   "execution_count": null,
   "metadata": {},
   "outputs": [],
   "source": [
    "sc = 5\n",
    "fig, (ax1, ax2) = plt.subplots(1, 2, figsize=(3*sc,1*sc), constrained_layout=True, dpi=120)\n",
    "# first subplot\n",
    "gdf.plot(linewidth=.3, ax = ax1, edgecolor=\"black\", facecolor=\"white\")\n",
    "ax3 = gdf_Wij.plot(linewidth=.3, ax = ax1, edgecolor=\"black\", facecolor=colorList_Vij)\n",
    "nx.draw(graph_Wij, positions_Wij, width = 2, arrows=True, arrowsize = 4, ax=ax3, nodelist=[], node_size=1, node_color=\"white\", edge_color=colorList_Wij)\n",
    "ax1.axis([ax_1.axis()[0], ax_1.axis()[1], ax_1.axis()[2], ax_1.axis()[3]])\n",
    "ax1.set_title('(a)', fontsize=15)\n",
    "cbar_ij = fig.colorbar(scalarMap_Wij, ax = ax1)\n",
    "# second subplot\n",
    "gdf.plot(linewidth=.3, ax = ax2, edgecolor=\"black\", facecolor=\"white\")\n",
    "ax4 = gdf_Wji.plot(linewidth=.3, ax = ax2, edgecolor=\"black\", facecolor=colorList_Vji)\n",
    "nx.draw(graph_Wji, positions_Wji, width = 2, arrows=True, arrowsize = 4, ax=ax4, nodelist=[], node_size=1, node_color=\"white\", edge_color=colorList_Wji)\n",
    "ax2.axis([ax_1.axis()[0], ax_1.axis()[1], ax_1.axis()[2], ax_1.axis()[3]])\n",
    "ax2.set_title('(b)', fontsize=15)\n",
    "cbar_ji = fig.colorbar(scalarMap_Wji, ax = ax2)\n",
    "plt.savefig('Figure_1.png', format='png', dpi=120)\n",
    "plt.show()"
   ]
  }
 ],
 "metadata": {
  "kernelspec": {
   "display_name": "Python 3 (ipykernel)",
   "language": "python",
   "name": "python3"
  },
  "language_info": {
   "codemirror_mode": {
    "name": "ipython",
    "version": 3
   },
   "file_extension": ".py",
   "mimetype": "text/x-python",
   "name": "python",
   "nbconvert_exporter": "python",
   "pygments_lexer": "ipython3",
   "version": "3.9.13"
  }
 },
 "nbformat": 4,
 "nbformat_minor": 4
}
